{
 "cells": [
  {
   "cell_type": "markdown",
   "metadata": {},
   "source": [
    "# News - Online Reports and Images"
   ]
  },
  {
   "cell_type": "markdown",
   "metadata": {},
   "source": [
    "##  Setup to RDP APIs"
   ]
  },
  {
   "cell_type": "code",
   "execution_count": null,
   "metadata": {},
   "outputs": [],
   "source": [
    "import requests, json, time, getopt, sys\n",
    "\n",
    "# Application Constants\n",
    "RDP_version = \"/v1\"\n",
    "base_URL = \"https://api.refinitiv.com\"\n",
    "category_URL = \"/auth/oauth2\"\n",
    "endpoint_URL = \"/token\"\n",
    "CLIENT_SECRET = \"\"\n",
    "SCOPE = \"trapi\"\n",
    "TOKEN_FILE = \"token.txt\"\n",
    "TOKEN_ENDPOINT = base_URL + category_URL + RDP_version + endpoint_URL"
   ]
  },
  {
   "cell_type": "markdown",
   "metadata": {},
   "source": [
    "## Load Credentials\n",
    "\n",
    "Credentials used by this notebook are stored in the ./credentials.ipynb. Please edit ./credentials.ipynb to set your credentials and run the next cell to continue with this scripts"
   ]
  },
  {
   "cell_type": "code",
   "execution_count": null,
   "metadata": {},
   "outputs": [],
   "source": [
    "%run ./credentials.ipynb"
   ]
  },
  {
   "cell_type": "markdown",
   "metadata": {},
   "source": [
    "### Obtain a Valid Token "
   ]
  },
  {
   "cell_type": "code",
   "execution_count": null,
   "metadata": {
    "tags": []
   },
   "outputs": [],
   "source": [
    "def _requestNewToken(refreshToken):\n",
    "    if refreshToken is None:\n",
    "        tData = {\n",
    "            \"username\": RDP_LOGIN,\n",
    "            \"password\": RDP_PASSWORD,\n",
    "            \"grant_type\": \"password\",\n",
    "            \"scope\": SCOPE,\n",
    "            \"takeExclusiveSignOnControl\": \"true\"\n",
    "        };\n",
    "    else:\n",
    "        tData = {\n",
    "            \"refresh_token\": refreshToken,\n",
    "            \"grant_type\": \"refresh_token\",\n",
    "        };\n",
    "\n",
    "    # Make a REST call to get latest access token\n",
    "    response = requests.post(\n",
    "        TOKEN_ENDPOINT,\n",
    "        headers = {\n",
    "            \"Accept\": \"application/json\"\n",
    "        },\n",
    "        data = tData,\n",
    "        auth = (\n",
    "            APP_KEY,\n",
    "            CLIENT_SECRET\n",
    "        )\n",
    "    )\n",
    "    \n",
    "    if response.status_code != 200:\n",
    "        raise Exception(\"Failed to get access token {0} - {1}\".format(response.status_code, response.text));\n",
    "\n",
    "    # Return the new token\n",
    "    return json.loads(response.text);\n",
    "\n",
    "def saveToken(tknObject):\n",
    "    tf = open(TOKEN_FILE, \"w+\");\n",
    "    print(\"Saving the new token\");\n",
    "    # Append the expiry time to token\n",
    "    tknObject[\"expiry_tm\"] = time.time() + int(tknObject[\"expires_in\"]) - 10;\n",
    "    # Store it in the file\n",
    "    json.dump(tknObject, tf, indent=4)\n",
    "\n",
    "def getToken():\n",
    "    try:\n",
    "        print(\"Reading the token from: \" + TOKEN_FILE);\n",
    "        # Read the token from a file\n",
    "        tf = open(TOKEN_FILE, \"r+\")\n",
    "        tknObject = json.load(tf);\n",
    "\n",
    "        # Is access token valid\n",
    "        if tknObject[\"expiry_tm\"] > time.time():\n",
    "            # return access token\n",
    "            return tknObject[\"access_token\"];\n",
    "\n",
    "        print(\"Token expired, refreshing a new one...\");\n",
    "        tf.close();\n",
    "        # Get a new token from refresh token\n",
    "        tknObject = _requestNewToken(tknObject[\"refresh_token\"]);\n",
    "\n",
    "    except Exception as exp:\n",
    "        print(\"Caught exception: \" + str(exp))\n",
    "        print(\"Getting a new token using Password Grant...\");\n",
    "        tknObject = _requestNewToken(None);\n",
    "\n",
    "    # Persist this token for future queries\n",
    "    saveToken(tknObject)\n",
    "    print(\"Token is: \" + tknObject[\"access_token\"])\n",
    "    # Return access token\n",
    "    return tknObject[\"access_token\"];    \n",
    "    \n",
    "token = getToken()\n",
    "token"
   ]
  },
  {
   "cell_type": "markdown",
   "metadata": {},
   "source": [
    "###  Request Online Reports Hierarchy"
   ]
  },
  {
   "cell_type": "code",
   "execution_count": null,
   "metadata": {
    "tags": []
   },
   "outputs": [],
   "source": [
    "def getOnlineReports():\n",
    "    news_category_URL = \"/data/news\"\n",
    "    reports_endpoint_URL = \"/online-reports\"\n",
    "\n",
    "\n",
    "    REQUEST_URL = base_URL + news_category_URL + RDP_version + reports_endpoint_URL\n",
    "\n",
    "    accessToken = getToken();\n",
    "    print(\"Requesting: \",REQUEST_URL)\n",
    "    \n",
    "    acceptValue = \"application/json\"\n",
    "    dResp = requests.get(REQUEST_URL, headers = {\"Authorization\": \"Bearer \" + accessToken, \"Accept\": acceptValue});\n",
    "    if dResp.status_code != 200:\n",
    "        print(\"Unable to get data. Code %s, Message: %s\" % (dResp.status_code, dResp.text));\n",
    "        if dResp.status_code != 401:   # error other then token expired\n",
    "            return(\"\") \n",
    "        accessToken = getToken();     # token refresh on token expired\n",
    "    else:\n",
    "        print(\"Resource access successful\")\n",
    "        return dResp.text\n",
    "    \n",
    "txt = getOnlineReports()\n",
    "jResp = json.loads(txt);\n",
    "print(json.dumps(jResp, indent=2));\n"
   ]
  },
  {
   "cell_type": "markdown",
   "metadata": {},
   "source": [
    "### Select Report Id"
   ]
  },
  {
   "cell_type": "code",
   "execution_count": null,
   "metadata": {},
   "outputs": [],
   "source": [
    "report_id = jResp['data'][0].get('reports')[0].get('reportId')\n",
    "report_id"
   ]
  },
  {
   "cell_type": "code",
   "execution_count": null,
   "metadata": {
    "tags": []
   },
   "outputs": [],
   "source": [
    "#report_id = \"/OLUSTOPNEWS\"\n",
    "def getReportsById(report_ir):\n",
    "    news_category_URL = \"/data/news\"\n",
    "    reports_endpoint_URL = \"/online-reports\"\n",
    "\n",
    "\n",
    "    REQUEST_URL = base_URL + news_category_URL + RDP_version + reports_endpoint_URL +  \"/\" + report_id\n",
    "\n",
    "    accessToken = getToken();\n",
    "    print(\"Requesting: \",REQUEST_URL)\n",
    "    \n",
    "    acceptValue = \"application/json\"\n",
    "    dResp = requests.get(REQUEST_URL, headers = {\"Authorization\": \"Bearer \" + accessToken, \"Accept\": acceptValue});\n",
    "    if dResp.status_code != 200:\n",
    "        print(\"Unable to get data. Code %s, Message: %s\" % (dResp.status_code, dResp.text));\n",
    "        if dResp.status_code != 401:   # error other then token expired\n",
    "            return(\"\") \n",
    "        accessToken = getToken();     # token refresh on token expired\n",
    "    else:\n",
    "        print(\"Resource access successful\")\n",
    "        return dResp.text\n",
    "    \n",
    "txt = getReportsById(report_id)\n",
    "jResp = json.loads(txt);\n",
    "print(json.dumps(jResp, indent=2));\n"
   ]
  },
  {
   "cell_type": "markdown",
   "metadata": {},
   "source": [
    "### Select Image Id (1st)"
   ]
  },
  {
   "cell_type": "code",
   "execution_count": null,
   "metadata": {},
   "outputs": [],
   "source": [
    "myImageId = jResp['data'][0].get('newsItem').get('itemMeta').get('link')[0].get('remoteContent')[0].get('_residref')\n",
    "myImageId"
   ]
  },
  {
   "cell_type": "markdown",
   "metadata": {},
   "source": [
    "### Request Online Report Image (1st)"
   ]
  },
  {
   "cell_type": "code",
   "execution_count": null,
   "metadata": {},
   "outputs": [],
   "source": [
    "myImageName = 'uniqueImageName'\n",
    "def getImage(imageId):\n",
    "    news_category_URL = \"/data/news\"\n",
    "    image_endpoint_URL = \"/images/\"\n",
    "\n",
    "    REQUEST_URL = base_URL + news_category_URL + RDP_version + image_endpoint_URL + imageId\n",
    "\n",
    "    accessToken = getToken();\n",
    "    print(\"Requesting: \",REQUEST_URL)\n",
    "    \n",
    "    acceptValue = \"image/jpeg\"\n",
    "    dResp = requests.get(REQUEST_URL, headers = {\"Authorization\": \"Bearer \" + accessToken, \"Accept\": acceptValue});\n",
    "    if dResp.status_code != 200:\n",
    "        print(\"Unable to get data. Code %s, Message: %s\" % (dResp.status_code, dResp.text));\n",
    "        if dResp.status_code != 401:   # error other then token expired\n",
    "            return(\"\") \n",
    "        accessToken = getToken();     # token refresh on token expired\n",
    "    else:\n",
    "        print(\"Resource access successful\")\n",
    "        return dResp.content\n",
    "    \n",
    "imgContent = getImage(myImageId)\n",
    "file = open(myImageName+'.jpg', \"wb\")\n",
    "file.write(imgContent)\n",
    "file.close()\n",
    "\n",
    "from IPython.display import Image\n",
    "Image(filename=myImageName+'.jpg') "
   ]
  },
  {
   "cell_type": "code",
   "execution_count": null,
   "metadata": {},
   "outputs": [],
   "source": []
  }
 ],
 "metadata": {
  "kernelspec": {
   "display_name": "Python 3",
   "language": "python",
   "name": "python3"
  },
  "language_info": {
   "codemirror_mode": {
    "name": "ipython",
    "version": 3
   },
   "file_extension": ".py",
   "mimetype": "text/x-python",
   "name": "python",
   "nbconvert_exporter": "python",
   "pygments_lexer": "ipython3",
   "version": "3.8.8"
  }
 },
 "nbformat": 4,
 "nbformat_minor": 4
}
